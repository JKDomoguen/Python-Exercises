{
 "cells": [
  {
   "cell_type": "code",
   "execution_count": 112,
   "metadata": {},
   "outputs": [],
   "source": [
    "import os\n",
    "\n",
    "from IPython.display import Image,display\n",
    "import numpy as np\n",
    "from PIL import Image\n",
    "import cv2\n",
    "import glob\n",
    "    "
   ]
  },
  {
   "cell_type": "code",
   "execution_count": 114,
   "metadata": {},
   "outputs": [
    {
     "data": {
      "text/plain": [
       "'\\nFirst Exercise\\n'"
      ]
     },
     "execution_count": 114,
     "metadata": {},
     "output_type": "execute_result"
    }
   ],
   "source": [
    "'''\n",
    "First Exercise\n",
    "'''\n",
    "# def disp_image(image_types):\n",
    "#     display(Image(filename='./lena.jpg'))\n",
    "#     for img_type in image_types:\n",
    "#         display(Image(filename='./'+img_type+'_image.jpg'))\n",
    "\n",
    "\n",
    "# def get_rgb_gray_image(image_path,image_types):\n",
    "#     gray_img = cv2.imread(image_path,0)\n",
    "#     rgb_image = cv2.imread(image_path) \n",
    "#     red_img = rgb_image[:,:,0]\n",
    "#     green_img = rgb_image[:,:,1]\n",
    "#     blue_img = rgb_image[:,:,2]\n",
    "#     all_black = np.zeros((rgb_image.shape[0],rgb_image.shape[1])) \n",
    "#     red_img = np.stack((red_img,all_black,all_black),axis=2)\n",
    "#     green_img = np.stack( (all_black,green_img,all_black),axis=2)\n",
    "#     blue_img = np.stack( (all_black,all_black,blue_img),axis=2)\n",
    "#     cv2.imwrite('./gray_image.jpg',gray_img)\n",
    "#     cv2.imwrite('./red_image.jpg',red_img)\n",
    "#     cv2.imwrite('./green_image.jpg',green_img)\n",
    "#     cv2.imwrite('./blue_image.jpg',blue_img)\n",
    "#     disp_image(image_types)\n",
    "\n",
    "                "
   ]
  },
  {
   "cell_type": "code",
   "execution_count": 115,
   "metadata": {},
   "outputs": [],
   "source": [
    "def process_image(image_file,\n",
    "                  ith,\n",
    "                  new_path,\n",
    "                  output):\n",
    "    '''\n",
    "    Process each image to their RGB and gray decomposition \n",
    "    then save them\n",
    "    :param: str image_file : directory of the image\n",
    "    :param: int ith: Index of each image\n",
    "    :param: str new_path : directory where to save processed files\n",
    "    :param: str display: Option which processed file to display\n",
    "    '''\n",
    "    \n",
    "    gray_img = cv2.imread(image_file,0)\n",
    "    rgb_image = cv2.imread(image_file) \n",
    "    red_img = rgb_image[:,:,0]\n",
    "    green_img = rgb_image[:,:,1]\n",
    "    blue_img = rgb_image[:,:,2]\n",
    "    all_black = np.zeros((rgb_image.shape[0],rgb_image.shape[1])) \n",
    "    red_img = np.stack((red_img,all_black,all_black),axis=2)\n",
    "    green_img = np.stack( (all_black,green_img,all_black),axis=2)\n",
    "    blue_img = np.stack( (all_black,all_black,blue_img),axis=2)\n",
    "    \n",
    "    cv2.imwrite(new_path+'/'+str(ith)+'_gray_image.jpg',gray_img)\n",
    "    cv2.imwrite(new_path+'/'+str(ith)+'_red_image.jpg',red_img)\n",
    "    cv2.imwrite(new_path+'/'+str(ith)+'_green_image.jpg',green_img)\n",
    "    cv2.imwrite(new_path+'/'+str(ith)+'_blue_image.jpg',blue_img)\n",
    "    \n",
    "    if output == 'gray':\n",
    "        display(Image.fromarray(np.uint8(gray_img)).convert('LA'))\n",
    "\n",
    "    elif output == 'red':\n",
    "        display(Image.fromarray(np.uint8(red_img)).convert('RGB'))        \n",
    "        \n",
    "    elif output == 'green':\n",
    "        display(Image.fromarray(np.uint8(green_img)).convert('RGB'))\n",
    "\n",
    "    elif output == 'blue':\n",
    "        display(Image.fromarray(np.uint8(blue_img)).convert('RGB'))\n",
    "    else:\n",
    "        print(\"Do not Display Image\")\n",
    "    \n",
    "        \n",
    "    \n",
    "\n",
    "    \n",
    "    \n",
    "\n",
    "def load_images_then_save(src_path,dst_path,output='gray'):\n",
    "    root_path = os.getcwd()\n",
    "    new_path = os.path.join(root_path,dst_path)\n",
    "    if not os.path.exists(new_path):\n",
    "        os.makedirs(dst_path,exist_ok=True)\n",
    "    \n",
    "    file_types = [\n",
    "        '*.jpg',\n",
    "        '*.png',\n",
    "        '*.gif'\n",
    "    ]\n",
    "    img_files = []\n",
    "    for file_type in file_types:\n",
    "        img_files.extend(glob.glob(src_path+file_type))\n",
    "    \n",
    "    \n",
    "    for ith,img_file in enumerate(img_files):\n",
    "        process_image(img_file,ith,dst_path,output)\n"
   ]
  },
  {
   "cell_type": "code",
   "execution_count": 110,
   "metadata": {},
   "outputs": [
    {
     "data": {
      "image/png": "[encoded data removed]",
      "text/plain": [
       "<PIL.Image.Image image mode=RGB size=105x105 at 0x212F7ACF908>"
      ]
     },
     "metadata": {},
     "output_type": "display_data"
    },
    {
     "data": {
      "image/png": "[encoded data removed]",
      "text/plain": [
       "<PIL.Image.Image image mode=RGB size=105x105 at 0x212F7DBC0C8>"
      ]
     },
     "metadata": {},
     "output_type": "display_data"
    },
    {
     "data": {
      "image/png": "[encoded data removed]",
      "text/plain": [
       "<PIL.Image.Image image mode=RGB size=105x105 at 0x212F80831C8>"
      ]
     },
     "metadata": {},
     "output_type": "display_data"
    },
    {
     "data": {
      "image/png": "[encoded data removed]",
      "text/plain": [
       "<PIL.Image.Image image mode=RGB size=105x105 at 0x212F7FEFA88>"
      ]
     },
     "metadata": {},
     "output_type": "display_data"
    },
    {
     "data": {
      "image/png": "[encoded data removed]",
      "text/plain": [
       "<PIL.Image.Image image mode=RGB size=105x105 at 0x212F7DBC0C8>"
      ]
     },
     "metadata": {},
     "output_type": "display_data"
    },
    {
     "data": {
      "image/png": "[encoded data removed]",
      "text/plain": [
       "<PIL.Image.Image image mode=RGB size=105x105 at 0x212F7CDF448>"
      ]
     },
     "metadata": {},
     "output_type": "display_data"
    },
    {
     "data": {
      "image/png": "[encoded data removed]",
      "text/plain": [
       "<PIL.Image.Image image mode=RGB size=105x105 at 0x212F7DBC0C8>"
      ]
     },
     "metadata": {},
     "output_type": "display_data"
    },
    {
     "data": {
      "image/png": "[encoded data removed]",
      "text/plain": [
       "<PIL.Image.Image image mode=RGB size=105x105 at 0x212F80831C8>"
      ]
     },
     "metadata": {},
     "output_type": "display_data"
    },
    {
     "data": {
      "image/png": "[encoded data removed]",
      "text/plain": [
       "<PIL.Image.Image image mode=RGB size=105x105 at 0x212F7FEFA88>"
      ]
     },
     "metadata": {},
     "output_type": "display_data"
    },
    {
     "data": {
      "image/png": "[encoded data removed]",
      "text/plain": [
       "<PIL.Image.Image image mode=RGB size=105x105 at 0x212F7DBC0C8>"
      ]
     },
     "metadata": {},
     "output_type": "display_data"
    },
    {
     "data": {
      "image/png": "[encoded data removed]",
      "text/plain": [
       "<PIL.Image.Image image mode=RGB size=105x105 at 0x212F80831C8>"
      ]
     },
     "metadata": {},
     "output_type": "display_data"
    },
    {
     "data": {
      "image/png": "[encoded data removed]",
      "text/plain": [
       "<PIL.Image.Image image mode=RGB size=105x105 at 0x212F7FEFA88>"
      ]
     },
     "metadata": {},
     "output_type": "display_data"
    },
    {
     "data": {
      "image/png": "[encoded data removed]",
      "text/plain": [
       "<PIL.Image.Image image mode=RGB size=105x105 at 0x212F7DBC0C8>"
      ]
     },
     "metadata": {},
     "output_type": "display_data"
    },
    {
     "data": {
      "image/png": "[encoded data removed]",
      "text/plain": [
       "<PIL.Image.Image image mode=RGB size=105x105 at 0x212F80831C8>"
      ]
     },
     "metadata": {},
     "output_type": "display_data"
    },
    {
     "data": {
      "image/png": "[encoded data removed]",
      "text/plain": [
       "<PIL.Image.Image image mode=RGB size=105x105 at 0x212F7FEFA88>"
      ]
     },
     "metadata": {},
     "output_type": "display_data"
    },
    {
     "data": {
      "image/png": "[encoded data removed]",
      "text/plain": [
       "<PIL.Image.Image image mode=RGB size=105x105 at 0x212F7CDF448>"
      ]
     },
     "metadata": {},
     "output_type": "display_data"
    },
    {
     "data": {
      "image/png": "[encoded data removed]",
      "text/plain": [
       "<PIL.Image.Image image mode=RGB size=105x105 at 0x212F80831C8>"
      ]
     },
     "metadata": {},
     "output_type": "display_data"
    },
    {
     "data": {
      "image/png": "[encoded data removed]",
      "text/plain": [
       "<PIL.Image.Image image mode=RGB size=105x105 at 0x212F7FEFA88>"
      ]
     },
     "metadata": {},
     "output_type": "display_data"
    },
    {
     "data": {
      "image/png": "[encoded data removed]",
      "text/plain": [
       "<PIL.Image.Image image mode=RGB size=105x105 at 0x212F7CDF448>"
      ]
     },
     "metadata": {},
     "output_type": "display_data"
    },
    {
     "data": {
      "image/png": "[encoded data removed]",
      "text/plain": [
       "<PIL.Image.Image image mode=RGB size=105x105 at 0x212F7DBC0C8>"
      ]
     },
     "metadata": {},
     "output_type": "display_data"
    }
   ],
   "source": [
    "if __name__ == '__main__':\n",
    "    image_path = \"./lena.jpg\"\n",
    "    image_types = [\n",
    "        \"gray\",\n",
    "        \"red\",\n",
    "        \"green\",\n",
    "        \"blue\"\n",
    "    ]\n",
    "    \n",
    "    #Get image lena and then process rgb decomposition and gray scaled\n",
    "    #Exercise 1\n",
    "    #get_rgb_gray_image(image_path,image_types)\n",
    "    \n",
    "    #Exercise 2\n",
    "    src_path = \"./images_folder/\"\n",
    "    new_path = 'saved_folder'\n",
    "    load_images_then_save(src_path,new_path,output='blue')"
   ]
  },
  {
   "cell_type": "code",
   "execution_count": null,
   "metadata": {},
   "outputs": [],
   "source": []
  }
 ],
 "metadata": {
  "kernelspec": {
   "display_name": "Python 3",
   "language": "python",
   "name": "python3"
  },
  "language_info": {
   "codemirror_mode": {
    "name": "ipython",
    "version": 3
   },
   "file_extension": ".py",
   "mimetype": "text/x-python",
   "name": "python",
   "nbconvert_exporter": "python",
   "pygments_lexer": "ipython3",
   "version": "3.7.8"
  }
 },
 "nbformat": 4,
 "nbformat_minor": 4
}
